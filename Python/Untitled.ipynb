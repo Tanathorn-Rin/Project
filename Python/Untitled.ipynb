{
 "cells": [
  {
   "cell_type": "code",
   "execution_count": 2,
   "id": "2179fc18-e7f0-4060-9ab4-b3ab7cd8655c",
   "metadata": {},
   "outputs": [
    {
     "name": "stdout",
     "output_type": "stream",
     "text": [
      "    No.                          Company  Dead  Aleart  Warning\n",
      "0     1                             COOK   272       0        2\n",
      "1     2                              TDH    96       0        0\n",
      "2     3                 Siriraj Hospital    64       0        0\n",
      "3     4                    KTBGS (Cloud)    30       0        0\n",
      "4     5                          AIRA-HQ    24       0        0\n",
      "5     6                    Common Ground    20       0        0\n",
      "6     7               Bangkok Cable BCC2    19       0        0\n",
      "7     8                             TSFC    18       0        0\n",
      "8     9                             ICBC    13       0        0\n",
      "9    10                             ANJI    11       0        0\n",
      "10   11                              SBP    11       0        0\n",
      "11   12                              KAO    11       0        0\n",
      "12   13                 Thai Parkerizing    10       0        0\n",
      "13   14               Bangkok Cable BCC1     8       0        0\n",
      "14   15                          AIRA-DR     7       1        0\n",
      "15   16         Don Muang Tollway Public     5       0        0\n",
      "16   17  ab logistics (thailand) co. ltd     5       0        0\n",
      "17   18                        NYK Group     5       0        0\n",
      "18   19       Yusen Logistics (Thailand)     5       0        0\n",
      "19   20                         bitnance     4       0        0\n",
      "20   21                    Hua Seng Heng     4       0        0\n",
      "21   22                 DDC-????????????     3       0        0\n",
      "22   23                              DPU     3       0        0\n",
      "23   24                   HANKYU HANSHIN     3       0        0\n",
      "24   25                     Phelps Dodge     2       0        0\n",
      "25   26                          Pioneer     1       0        0\n",
      "26   27                           KAO-DR     1       0        0\n",
      "27   28                        Don Muang     1       0        0\n",
      "28   29                              FCC     1       0        0\n",
      "29   30                             RCAC     1       0        0\n",
      "30   31                       BLCP Power     1       0        0\n",
      "31   32                       Saha Crane     1       0        0\n",
      "32   33                             SPVI     1       0        0\n",
      "33   34                          GPO-MBP     1       0        0\n",
      "34  ???                              NaN   662       1        2\n"
     ]
    }
   ],
   "source": [
    "import pandas as pd\n",
    "\n",
    "df = pd.read_csv('Customer List Summation.csv')\n",
    "\n",
    "print(df.to_string()) "
   ]
  },
  {
   "cell_type": "code",
   "execution_count": 3,
   "id": "bb1f886d-bb9b-4eb1-9a40-74b195ce7fbe",
   "metadata": {},
   "outputs": [
    {
     "name": "stdout",
     "output_type": "stream",
     "text": [
      "hello\n"
     ]
    }
   ],
   "source": [
    "print(\"hello\")"
   ]
  },
  {
   "cell_type": "code",
   "execution_count": null,
   "id": "57c89f32-e62d-4f5d-94d5-7612d03b82c1",
   "metadata": {},
   "outputs": [],
   "source": []
  }
 ],
 "metadata": {
  "kernelspec": {
   "display_name": "Python 3",
   "language": "python",
   "name": "python3"
  },
  "language_info": {
   "codemirror_mode": {
    "name": "ipython",
    "version": 3
   },
   "file_extension": ".py",
   "mimetype": "text/x-python",
   "name": "python",
   "nbconvert_exporter": "python",
   "pygments_lexer": "ipython3",
   "version": "3.8.8"
  }
 },
 "nbformat": 4,
 "nbformat_minor": 5
}
